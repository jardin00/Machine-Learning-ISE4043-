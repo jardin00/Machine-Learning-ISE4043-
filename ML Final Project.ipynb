{
  "cells": [
    {
      "cell_type": "code",
      "execution_count": null,
      "metadata": {
        "id": "cB5NYtSpixde"
      },
      "outputs": [],
      "source": [
        "import pandas as pd\n",
        "import numpy as np\n",
        "from sklearn.model_selection import train_test_split\n",
        "from sklearn.preprocessing import StandardScaler\n",
        "\n",
        "from sklearn.neural_network import MLPClassifier\n",
        "from sklearn.svm import SVC\n",
        "\n",
        "from sklearn.metrics import accuracy_score,f1_score,classification_report\n",
        "\n",
        "from sklearn.model_selection import GridSearchCV"
      ]
    },
    {
      "cell_type": "code",
      "execution_count": null,
      "metadata": {
        "id": "cJUPMHdZi060"
      },
      "outputs": [],
      "source": [
        "#데이터 읽기\n",
        "train = pd.read_csv('/content/drive/MyDrive/Colab Notebooks/머신러닝/project/Train.csv')\n",
        "test = pd.read_csv('/content/drive/MyDrive/Colab Notebooks/머신러닝/project/Test.csv')"
      ]
    },
    {
      "cell_type": "code",
      "execution_count": null,
      "metadata": {
        "id": "nalcvz0EqPy7"
      },
      "outputs": [],
      "source": [
        "#index drop\n",
        "train = train.drop('Index',axis=1)\n",
        "test = test.drop('Index',axis=1)"
      ]
    },
    {
      "cell_type": "code",
      "execution_count": null,
      "metadata": {
        "id": "HH9s6rR-5eAX"
      },
      "outputs": [],
      "source": [
        "#데이터 분리\n",
        "X_train, X_test, y_train, y_test = train_test_split(train.loc[:,'X0':'X999'], train.iloc[:,-1],test_size=0.2,random_state=100)"
      ]
    },
    {
      "cell_type": "code",
      "execution_count": null,
      "metadata": {
        "colab": {
          "base_uri": "https://localhost:8080/"
        },
        "id": "a3mjUOjaVE8L",
        "outputId": "a97807a9-03c9-4b2d-b12a-16f661dfe2e5"
      },
      "outputs": [
        {
          "output_type": "stream",
          "name": "stdout",
          "text": [
            "test f1 :  0.693110971913348\n",
            "최적의 parameters :  {'C': 10, 'gamma': 0.01}\n"
          ]
        }
      ],
      "source": [
        "#svm parameter tuning\n",
        "param_dist = {\n",
        "    'C' : [0.001, 0.01, 0.1, 1, 10, 100],\n",
        "    'gamma' : [0.001, 0.01, 0.1, 1, 10, 100]\n",
        "}\n",
        "\n",
        "gs = GridSearchCV(SVC(), param_dist, cv=5,scoring='f1_macro')\n",
        "gs.fit(X_train,y_train)\n",
        "\n",
        "print('test f1 : ', gs.score(X_test, y_test))\n",
        "print('최적의 parameters : ', gs.best_params_)"
      ]
    },
    {
      "cell_type": "code",
      "execution_count": null,
      "metadata": {
        "id": "KBrfNtcrUX5E"
      },
      "outputs": [],
      "source": [
        "def result(X_train, X_test, y_train, y_test):\n",
        "    m1=SVC(kernel=\"rbf\",C=10, gamma=0.01)\n",
        "    m1.fit(X_train,y_train)\n",
        "    y_pred = m1.predict(X_test)\n",
        "    f1 = f1_score(y_test,y_pred,average='binary',pos_label='positive')\n",
        "    return f1"
      ]
    },
    {
      "cell_type": "code",
      "execution_count": null,
      "metadata": {
        "id": "TemF-qq5UXkc",
        "colab": {
          "base_uri": "https://localhost:8080/"
        },
        "outputId": "1ca2e9be-7c57-40c2-ad8d-cdc88e47be3d"
      },
      "outputs": [
        {
          "output_type": "stream",
          "name": "stdout",
          "text": [
            "현재 i:  0\n",
            "최고의 random_state:  0\n",
            "f1_score:  0.5119047619047619\n",
            "현재 i:  1\n",
            "최고의 random_state:  0\n",
            "f1_score:  0.5119047619047619\n",
            "현재 i:  2\n",
            "최고의 random_state:  2\n",
            "f1_score:  0.5656565656565657\n",
            "현재 i:  3\n",
            "최고의 random_state:  2\n",
            "f1_score:  0.5656565656565657\n",
            "현재 i:  4\n",
            "최고의 random_state:  4\n",
            "f1_score:  0.6000000000000001\n",
            "현재 i:  5\n",
            "최고의 random_state:  4\n",
            "f1_score:  0.6000000000000001\n",
            "현재 i:  6\n",
            "최고의 random_state:  4\n",
            "f1_score:  0.6000000000000001\n",
            "현재 i:  7\n",
            "최고의 random_state:  4\n",
            "f1_score:  0.6000000000000001\n",
            "현재 i:  8\n",
            "최고의 random_state:  4\n",
            "f1_score:  0.6000000000000001\n",
            "현재 i:  9\n",
            "최고의 random_state:  4\n",
            "f1_score:  0.6000000000000001\n",
            "현재 i:  10\n",
            "최고의 random_state:  4\n",
            "f1_score:  0.6000000000000001\n",
            "현재 i:  11\n",
            "최고의 random_state:  4\n",
            "f1_score:  0.6000000000000001\n",
            "현재 i:  12\n",
            "최고의 random_state:  4\n",
            "f1_score:  0.6000000000000001\n",
            "현재 i:  13\n",
            "최고의 random_state:  4\n",
            "f1_score:  0.6000000000000001\n",
            "현재 i:  14\n",
            "최고의 random_state:  4\n",
            "f1_score:  0.6000000000000001\n",
            "현재 i:  15\n",
            "최고의 random_state:  4\n",
            "f1_score:  0.6000000000000001\n",
            "현재 i:  16\n",
            "최고의 random_state:  4\n",
            "f1_score:  0.6000000000000001\n",
            "현재 i:  17\n",
            "최고의 random_state:  4\n",
            "f1_score:  0.6000000000000001\n",
            "현재 i:  18\n",
            "최고의 random_state:  4\n",
            "f1_score:  0.6000000000000001\n",
            "현재 i:  19\n",
            "최고의 random_state:  4\n",
            "f1_score:  0.6000000000000001\n",
            "현재 i:  20\n",
            "최고의 random_state:  20\n",
            "f1_score:  0.6187845303867403\n",
            "현재 i:  21\n",
            "최고의 random_state:  20\n",
            "f1_score:  0.6187845303867403\n",
            "현재 i:  22\n",
            "최고의 random_state:  20\n",
            "f1_score:  0.6187845303867403\n",
            "현재 i:  23\n",
            "최고의 random_state:  20\n",
            "f1_score:  0.6187845303867403\n",
            "현재 i:  24\n",
            "최고의 random_state:  20\n",
            "f1_score:  0.6187845303867403\n",
            "현재 i:  25\n",
            "최고의 random_state:  20\n",
            "f1_score:  0.6187845303867403\n",
            "현재 i:  26\n",
            "최고의 random_state:  20\n",
            "f1_score:  0.6187845303867403\n",
            "현재 i:  27\n",
            "최고의 random_state:  20\n",
            "f1_score:  0.6187845303867403\n",
            "현재 i:  28\n",
            "최고의 random_state:  20\n",
            "f1_score:  0.6187845303867403\n",
            "현재 i:  29\n",
            "최고의 random_state:  20\n",
            "f1_score:  0.6187845303867403\n",
            "현재 i:  30\n",
            "최고의 random_state:  30\n",
            "f1_score:  0.6580645161290323\n",
            "현재 i:  31\n",
            "최고의 random_state:  30\n",
            "f1_score:  0.6580645161290323\n",
            "현재 i:  32\n",
            "최고의 random_state:  30\n",
            "f1_score:  0.6580645161290323\n",
            "현재 i:  33\n",
            "최고의 random_state:  30\n",
            "f1_score:  0.6580645161290323\n",
            "현재 i:  34\n",
            "최고의 random_state:  30\n",
            "f1_score:  0.6580645161290323\n",
            "현재 i:  35\n",
            "최고의 random_state:  30\n",
            "f1_score:  0.6580645161290323\n",
            "현재 i:  36\n",
            "최고의 random_state:  30\n",
            "f1_score:  0.6580645161290323\n",
            "현재 i:  37\n",
            "최고의 random_state:  30\n",
            "f1_score:  0.6580645161290323\n",
            "현재 i:  38\n",
            "최고의 random_state:  30\n",
            "f1_score:  0.6580645161290323\n",
            "현재 i:  39\n",
            "최고의 random_state:  30\n",
            "f1_score:  0.6580645161290323\n",
            "현재 i:  40\n",
            "최고의 random_state:  30\n",
            "f1_score:  0.6580645161290323\n",
            "현재 i:  41\n",
            "최고의 random_state:  30\n",
            "f1_score:  0.6580645161290323\n",
            "현재 i:  42\n",
            "최고의 random_state:  30\n",
            "f1_score:  0.6580645161290323\n",
            "현재 i:  43\n",
            "최고의 random_state:  30\n",
            "f1_score:  0.6580645161290323\n",
            "현재 i:  44\n",
            "최고의 random_state:  30\n",
            "f1_score:  0.6580645161290323\n",
            "현재 i:  45\n",
            "최고의 random_state:  30\n",
            "f1_score:  0.6580645161290323\n",
            "현재 i:  46\n",
            "최고의 random_state:  30\n",
            "f1_score:  0.6580645161290323\n",
            "현재 i:  47\n",
            "최고의 random_state:  30\n",
            "f1_score:  0.6580645161290323\n",
            "현재 i:  48\n",
            "최고의 random_state:  30\n",
            "f1_score:  0.6580645161290323\n",
            "현재 i:  49\n",
            "최고의 random_state:  30\n",
            "f1_score:  0.6580645161290323\n",
            "현재 i:  50\n",
            "최고의 random_state:  30\n",
            "f1_score:  0.6580645161290323\n",
            "현재 i:  51\n",
            "최고의 random_state:  30\n",
            "f1_score:  0.6580645161290323\n",
            "현재 i:  52\n",
            "최고의 random_state:  30\n",
            "f1_score:  0.6580645161290323\n",
            "현재 i:  53\n",
            "최고의 random_state:  30\n",
            "f1_score:  0.6580645161290323\n",
            "현재 i:  54\n",
            "최고의 random_state:  30\n",
            "f1_score:  0.6580645161290323\n",
            "현재 i:  55\n",
            "최고의 random_state:  30\n",
            "f1_score:  0.6580645161290323\n",
            "현재 i:  56\n",
            "최고의 random_state:  30\n",
            "f1_score:  0.6580645161290323\n",
            "현재 i:  57\n",
            "최고의 random_state:  30\n",
            "f1_score:  0.6580645161290323\n",
            "현재 i:  58\n",
            "최고의 random_state:  30\n",
            "f1_score:  0.6580645161290323\n",
            "현재 i:  59\n",
            "최고의 random_state:  30\n",
            "f1_score:  0.6580645161290323\n",
            "현재 i:  60\n",
            "최고의 random_state:  30\n",
            "f1_score:  0.6580645161290323\n",
            "현재 i:  61\n",
            "최고의 random_state:  30\n",
            "f1_score:  0.6580645161290323\n",
            "현재 i:  62\n",
            "최고의 random_state:  30\n",
            "f1_score:  0.6580645161290323\n",
            "현재 i:  63\n",
            "최고의 random_state:  30\n",
            "f1_score:  0.6580645161290323\n",
            "현재 i:  64\n",
            "최고의 random_state:  30\n",
            "f1_score:  0.6580645161290323\n",
            "현재 i:  65\n",
            "최고의 random_state:  30\n",
            "f1_score:  0.6580645161290323\n",
            "현재 i:  66\n",
            "최고의 random_state:  30\n",
            "f1_score:  0.6580645161290323\n",
            "현재 i:  67\n",
            "최고의 random_state:  30\n",
            "f1_score:  0.6580645161290323\n",
            "현재 i:  68\n",
            "최고의 random_state:  30\n",
            "f1_score:  0.6580645161290323\n",
            "현재 i:  69\n",
            "최고의 random_state:  30\n",
            "f1_score:  0.6580645161290323\n",
            "현재 i:  70\n",
            "최고의 random_state:  30\n",
            "f1_score:  0.6580645161290323\n",
            "현재 i:  71\n",
            "최고의 random_state:  30\n",
            "f1_score:  0.6580645161290323\n",
            "현재 i:  72\n",
            "최고의 random_state:  30\n",
            "f1_score:  0.6580645161290323\n",
            "현재 i:  73\n",
            "최고의 random_state:  30\n",
            "f1_score:  0.6580645161290323\n",
            "현재 i:  74\n",
            "최고의 random_state:  30\n",
            "f1_score:  0.6580645161290323\n",
            "현재 i:  75\n",
            "최고의 random_state:  30\n",
            "f1_score:  0.6580645161290323\n",
            "현재 i:  76\n",
            "최고의 random_state:  30\n",
            "f1_score:  0.6580645161290323\n",
            "현재 i:  77\n",
            "최고의 random_state:  30\n",
            "f1_score:  0.6580645161290323\n",
            "현재 i:  78\n",
            "최고의 random_state:  30\n",
            "f1_score:  0.6580645161290323\n",
            "현재 i:  79\n",
            "최고의 random_state:  30\n",
            "f1_score:  0.6580645161290323\n",
            "현재 i:  80\n",
            "최고의 random_state:  30\n",
            "f1_score:  0.6580645161290323\n",
            "현재 i:  81\n",
            "최고의 random_state:  30\n",
            "f1_score:  0.6580645161290323\n",
            "현재 i:  82\n",
            "최고의 random_state:  30\n",
            "f1_score:  0.6580645161290323\n",
            "현재 i:  83\n",
            "최고의 random_state:  30\n",
            "f1_score:  0.6580645161290323\n",
            "현재 i:  84\n",
            "최고의 random_state:  30\n",
            "f1_score:  0.6580645161290323\n",
            "현재 i:  85\n",
            "최고의 random_state:  30\n",
            "f1_score:  0.6580645161290323\n",
            "현재 i:  86\n",
            "최고의 random_state:  30\n",
            "f1_score:  0.6580645161290323\n",
            "현재 i:  87\n",
            "최고의 random_state:  30\n",
            "f1_score:  0.6580645161290323\n",
            "현재 i:  88\n",
            "최고의 random_state:  30\n",
            "f1_score:  0.6580645161290323\n",
            "현재 i:  89\n",
            "최고의 random_state:  30\n",
            "f1_score:  0.6580645161290323\n",
            "현재 i:  90\n",
            "최고의 random_state:  30\n",
            "f1_score:  0.6580645161290323\n",
            "현재 i:  91\n",
            "최고의 random_state:  30\n",
            "f1_score:  0.6580645161290323\n",
            "현재 i:  92\n",
            "최고의 random_state:  30\n",
            "f1_score:  0.6580645161290323\n",
            "현재 i:  93\n",
            "최고의 random_state:  30\n",
            "f1_score:  0.6580645161290323\n",
            "현재 i:  94\n",
            "최고의 random_state:  30\n",
            "f1_score:  0.6580645161290323\n",
            "현재 i:  95\n",
            "최고의 random_state:  30\n",
            "f1_score:  0.6580645161290323\n",
            "현재 i:  96\n",
            "최고의 random_state:  30\n",
            "f1_score:  0.6580645161290323\n",
            "현재 i:  97\n",
            "최고의 random_state:  30\n",
            "f1_score:  0.6580645161290323\n",
            "현재 i:  98\n",
            "최고의 random_state:  30\n",
            "f1_score:  0.6580645161290323\n",
            "현재 i:  99\n",
            "최고의 random_state:  30\n",
            "f1_score:  0.6580645161290323\n",
            "현재 i:  100\n",
            "최고의 random_state:  30\n",
            "f1_score:  0.6580645161290323\n"
          ]
        }
      ],
      "source": [
        "#f1-score가 잘 나오는 randomstate 찾기\n",
        "from imblearn.under_sampling import *\n",
        "max=0\n",
        "best=0\n",
        "for i in range(0,101,1):\n",
        "  X_train, X_test, y_train, y_test = train_test_split(train.loc[:,'X0':'X999'], train.iloc[:,-1],test_size=0.2,random_state=i)\n",
        "  X,y = EditedNearestNeighbours(n_neighbors=3).fit_resample(X_train,y_train)\n",
        "  a=result(X, X_test, y, y_test)\n",
        "  if(max<a):\n",
        "    max=a\n",
        "    best=i\n",
        "  print('현재 i: ', i)\n",
        "  print('최고의 random_state: ',best)\n",
        "  print('f1_score: ', max)"
      ]
    },
    {
      "cell_type": "code",
      "source": [
        "#Best randome state로 데이터 분리\n",
        "X_train, X_test, y_train, y_test = train_test_split(train.loc[:,'X0':'X999'], train.iloc[:,-1],test_size=0.2,random_state=30)"
      ],
      "metadata": {
        "id": "z3E1FIu01qn8"
      },
      "execution_count": null,
      "outputs": []
    },
    {
      "cell_type": "code",
      "execution_count": null,
      "metadata": {
        "id": "QsO8uAkHp09o"
      },
      "outputs": [],
      "source": [
        "reX_train,rey_train = EditedNearestNeighbours(n_neighbors=3).fit_resample(X_train,y_train)"
      ]
    },
    {
      "cell_type": "code",
      "execution_count": null,
      "metadata": {
        "id": "MB8bPxI-5rMe",
        "colab": {
          "base_uri": "https://localhost:8080/"
        },
        "outputId": "6276bbb0-f9fb-4340-f155-81f3346f18db"
      },
      "outputs": [
        {
          "output_type": "stream",
          "name": "stdout",
          "text": [
            "Classificcation Report: \n",
            "              precision    recall  f1-score   support\n",
            "\n",
            "    negative       0.97      0.97      0.97       919\n",
            "    positive       0.69      0.63      0.66        81\n",
            "\n",
            "    accuracy                           0.95      1000\n",
            "   macro avg       0.83      0.80      0.81      1000\n",
            "weighted avg       0.95      0.95      0.95      1000\n",
            "\n"
          ]
        }
      ],
      "source": [
        "m=SVC(kernel='rbf',C=10, gamma=0.01)\n",
        "m.fit(reX_train,rey_train)\n",
        "\n",
        "pred_train = m.predict(reX_train)\n",
        "pred_test = m.predict(X_test)\n",
        "\n",
        "print(\"Classificcation Report: \\n{}\".format(classification_report(y_test, pred_test)))"
      ]
    },
    {
      "cell_type": "code",
      "execution_count": null,
      "metadata": {
        "id": "oS8AGneaRr8o",
        "colab": {
          "base_uri": "https://localhost:8080/"
        },
        "outputId": "ac884add-7dba-4106-a8a6-088f4000fc8c"
      },
      "outputs": [
        {
          "output_type": "stream",
          "name": "stdout",
          "text": [
            "Type : <class 'numpy.ndarray'> | Length : 3500\n"
          ]
        }
      ],
      "source": [
        "test_X=test.loc[:,'X0':'X999']\n",
        "prediction = m.predict(test_X)\n",
        "\n",
        "print(f'Type : {type(prediction)} | Length : {len(prediction)}')"
      ]
    },
    {
      "cell_type": "code",
      "execution_count": null,
      "metadata": {
        "id": "dbZkEBBUGPdT",
        "colab": {
          "base_uri": "https://localhost:8080/"
        },
        "outputId": "10526376-e043-4001-825d-0e9c6a824dd3"
      },
      "outputs": [
        {
          "output_type": "execute_result",
          "data": {
            "text/plain": [
              "(array(['negative', 'positive'], dtype=object), array([3216,  284]))"
            ]
          },
          "metadata": {},
          "execution_count": 16
        }
      ],
      "source": [
        "np.unique(prediction, return_counts=True)"
      ]
    },
    {
      "cell_type": "code",
      "execution_count": null,
      "metadata": {
        "id": "UaZ50eq4RvEl"
      },
      "outputs": [],
      "source": [
        "import numpy as np\n",
        "\n",
        "np.savetxt('/content/drive/MyDrive/Colab Notebooks/머신러닝/project/박정원.csv', prediction, delimiter=',',fmt='%s')"
      ]
    }
  ],
  "metadata": {
    "accelerator": "GPU",
    "colab": {
      "collapsed_sections": [],
      "name": "2020112485 박정원(알파카).ipynb",
      "provenance": [],
      "mount_file_id": "16BSY8QrkXgzWJgSdGVwexeF0s1LsigmH",
      "authorship_tag": "ABX9TyPCcn0rzl3GIz73SBM+COUD"
    },
    "gpuClass": "standard",
    "kernelspec": {
      "display_name": "Python 3",
      "name": "python3"
    },
    "language_info": {
      "name": "python"
    }
  },
  "nbformat": 4,
  "nbformat_minor": 0
}